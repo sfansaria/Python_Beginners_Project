{
  "nbformat": 4,
  "nbformat_minor": 0,
  "metadata": {
    "colab": {
      "provenance": [],
      "authorship_tag": "ABX9TyMT8fVMAThszbTGKUE/4ezE",
      "include_colab_link": true
    },
    "kernelspec": {
      "name": "python3",
      "display_name": "Python 3"
    },
    "language_info": {
      "name": "python"
    }
  },
  "cells": [
    {
      "cell_type": "markdown",
      "metadata": {
        "id": "view-in-github",
        "colab_type": "text"
      },
      "source": [
        "<a href=\"https://colab.research.google.com/github/sfansaria/Python_Beginners_Project/blob/main/Number_guessing_game.ipynb\" target=\"_parent\"><img src=\"https://colab.research.google.com/assets/colab-badge.svg\" alt=\"Open In Colab\"/></a>"
      ]
    },
    {
      "cell_type": "code",
      "execution_count": null,
      "metadata": {
        "colab": {
          "base_uri": "https://localhost:8080/"
        },
        "id": "gGe3aysUs6Pc",
        "outputId": "690bf6b1-04ea-4444-a784-ac6f1c69f01f"
      },
      "outputs": [
        {
          "output_type": "stream",
          "name": "stdout",
          "text": [
            "Enter Lower Bound: 8\n",
            "Enter Upper Bound: 90\n",
            "\n",
            "\t You have only 6 chances to guess the integer!\n",
            "\n",
            "Guess a number: 78\n",
            "You guessed too high !\n",
            "Guess a number: 50\n",
            "You guessed too small !\n",
            "Guess a number: 61\n",
            "You guessed too high !\n",
            "Guess a number: 55\n",
            "You guessed too small !\n",
            "Guess a number: 57\n",
            "Congratulation you did it in 5 try\n"
          ]
        }
      ],
      "source": [
        "import random\n",
        "import math\n",
        "\n",
        "#Input\n",
        "lower = int(input(\"Enter Lower Bound: \"))\n",
        "upper = int(input(\"Enter Upper Bound: \"))\n",
        "\n",
        "#generate random number between the lower and upper bound\n",
        "\n",
        "x = random.randint(lower, upper)\n",
        "print(\"\\n\\t You have only\", round(math.log(upper-lower+1, 2)), \"chances to guess the integer!\\n\")\n",
        "\n",
        "#Initializing the number of guesses\n",
        "count = 0\n",
        "\n",
        "#for calculation of minimum number of guesses depends upon range\n",
        "while count < math.log(upper - lower +1, 2):\n",
        "    count += 1\n",
        "    #taking the guessing number as input\n",
        "    guess = int(input(\"Guess a number: \"))\n",
        "\n",
        "    #condition testing\n",
        "    if x == guess:\n",
        "      print(\"Congratulation you did it in\",count, \"try\")\n",
        "      #Once guessed, loop will break\n",
        "      break\n",
        "    elif x > guess:\n",
        "      print(\"You guessed too small !\")\n",
        "    elif x < guess:\n",
        "      print(\"You guessed too high !\")\n",
        "\n",
        "#If Guessing is more than required guesses,shows this output\n",
        "if count >= math.log(upper - lower + 1, 2):\n",
        "    print(\"\\nThe number is %d\" %x)\n",
        "    print(\"\\tBetter Luck Next Time!\")\n",
        "\n"
      ]
    },
    {
      "cell_type": "code",
      "source": [
        "#TIME COMPLEXITY\n",
        "#The time complexity of this code is O(n) as the number of iterations\n",
        "#of the loop is not fixed and depends on the number of guesses taken\n",
        "#by the user to get the right answer.\n",
        "\n",
        "#SPACE COMPLEXITY\n",
        "#The space complexity of this ocde is 0(1) as all the variables used in\n",
        "#this code are of the same size and no extra space is required to store\n",
        "#the values"
      ],
      "metadata": {
        "id": "cMiMxBl_e4Ay"
      },
      "execution_count": null,
      "outputs": []
    }
  ]
}