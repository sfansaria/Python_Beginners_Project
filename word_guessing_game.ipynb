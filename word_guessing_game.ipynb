{
  "nbformat": 4,
  "nbformat_minor": 0,
  "metadata": {
    "colab": {
      "provenance": [],
      "authorship_tag": "ABX9TyO8V9pAvzyPZEAG5mhgTf/Z",
      "include_colab_link": true
    },
    "kernelspec": {
      "name": "python3",
      "display_name": "Python 3"
    },
    "language_info": {
      "name": "python"
    }
  },
  "cells": [
    {
      "cell_type": "markdown",
      "metadata": {
        "id": "view-in-github",
        "colab_type": "text"
      },
      "source": [
        "<a href=\"https://colab.research.google.com/github/sfansaria/Python_Beginners_Project/blob/main/word_guessing_game.ipynb\" target=\"_parent\"><img src=\"https://colab.research.google.com/assets/colab-badge.svg\" alt=\"Open In Colab\"/></a>"
      ]
    },
    {
      "cell_type": "code",
      "execution_count": null,
      "metadata": {
        "colab": {
          "base_uri": "https://localhost:8080/"
        },
        "id": "uj5SwB3AgLMx",
        "outputId": "0fcb8243-6d1f-417d-86f7-561d60713a60"
      },
      "outputs": [
        {
          "output_type": "stream",
          "name": "stdout",
          "text": [
            "What is your name?ki\n",
            "Good Luck ! ki\n",
            "Guess the characters\n",
            "_\n",
            "_\n",
            "_\n",
            "_\n",
            "_\n",
            "_\n",
            "_\n",
            "\n",
            "guess a character:wa\n",
            "Wrong\n",
            "You have 11 more guesses\n",
            "_\n",
            "_\n",
            "_\n",
            "_\n",
            "_\n",
            "_\n",
            "_\n",
            "\n",
            "guess a character:water\n",
            "Wrong\n",
            "You have 10 more guesses\n",
            "_\n",
            "_\n",
            "_\n",
            "e _\n",
            "_\n",
            "e \n",
            "guess a character:computer\n",
            "Wrong\n",
            "You have 9 more guesses\n",
            "_\n",
            "c _\n",
            "e _\n",
            "c e \n",
            "guess a character:science\n",
            "s c i e n c e You Win\n",
            "The word is:  science\n"
          ]
        }
      ],
      "source": [
        "import random\n",
        "\n",
        "name = input(\"What is your name?\")\n",
        "\n",
        "print(\"Good Luck !\",name) #Here the user is asked to enter the name first\n",
        "\n",
        "words = ['rainbow', 'computer', 'science', 'programming', 'python', 'mathematics', 'player', 'condition', 'reverse', 'water', 'board', 'geeks']\n",
        "\n",
        "word = random.choice(words) #Function will choose one random word\n",
        "                            #from this list of words\n",
        "print(\"Guess the characters\")\n",
        "guesses = ''\n",
        "\n",
        "#any number of turns can be used here\n",
        "turns = 12\n",
        "\n",
        "while turns > 0:\n",
        "     #counts the number of times a user fails\n",
        "     failed = 0\n",
        "\n",
        "     #all characters from the imput\n",
        "     #word taking one at a time\n",
        "     for char in word:\n",
        "      #comparing that character withe the character in guesses\n",
        "        if char in guesses:\n",
        "            print(char, end=\" \")\n",
        "        else:\n",
        "          print(\"_\")\n",
        "\n",
        "          #for every failure 1 will be incremented in failure\n",
        "          failed += 1\n",
        "\n",
        "     if failed == 0:\n",
        "        #user will win the game if failure is 0 and 'You Win' will be given as output\n",
        "        print(\"You Win\")\n",
        "\n",
        "        #this print the correct word\n",
        "        print(\"The word is: \", word)\n",
        "\n",
        "        break\n",
        "\n",
        "     print()\n",
        "    #if user has input the wrong alphabet then\n",
        "    #it will ask user to enter another alphabet\n",
        "     guess = input(\"guess a character:\")\n",
        "\n",
        "    #every input character will be stored in guesses\n",
        "     guesses += guess\n",
        "\n",
        "    #check input with the character in word\n",
        "     if guess not in word:\n",
        "      turns -= 1\n",
        "      #if the character doesnot match the word\n",
        "      #then \"Wrong\" will be given as output\n",
        "      print(\"Wrong\")\n",
        "\n",
        "      #this will print the number of\n",
        "      #turns left for the user\n",
        "      print(\"You have\", + turns, \"more guesses\")\n",
        "\n",
        "\n",
        "     if turns == 0:\n",
        "        print(\"You Loose\")"
      ]
    }
  ]
}