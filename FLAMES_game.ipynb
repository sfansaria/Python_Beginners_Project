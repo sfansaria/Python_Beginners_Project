{
  "nbformat": 4,
  "nbformat_minor": 0,
  "metadata": {
    "colab": {
      "provenance": [],
      "authorship_tag": "ABX9TyPeSC4wZLhbpjP9pQhVRrMF",
      "include_colab_link": true
    },
    "kernelspec": {
      "name": "python3",
      "display_name": "Python 3"
    },
    "language_info": {
      "name": "python"
    }
  },
  "cells": [
    {
      "cell_type": "markdown",
      "metadata": {
        "id": "view-in-github",
        "colab_type": "text"
      },
      "source": [
        "<a href=\"https://colab.research.google.com/github/sfansaria/Python_Beginners_Project/blob/main/FLAMES_game.ipynb\" target=\"_parent\"><img src=\"https://colab.research.google.com/assets/colab-badge.svg\" alt=\"Open In Colab\"/></a>"
      ]
    },
    {
      "cell_type": "code",
      "execution_count": null,
      "metadata": {
        "colab": {
          "base_uri": "https://localhost:8080/"
        },
        "id": "ukjFiAHxbWeD",
        "outputId": "0720bf1e-53d9-4e51-ef0c-4d1fc68ad9af"
      },
      "outputs": [
        {
          "output_type": "stream",
          "name": "stdout",
          "text": [
            "Enter the Player_1 name : rabbit\n",
            "Enter the Player_2 name : lion\n",
            "Relationship status : Affection\n"
          ]
        }
      ],
      "source": [
        "\n",
        "#Function for removing the common characters\n",
        "\n",
        "def remove_comm_char(list1, list2):\n",
        "\n",
        "  for i in range(len(list1)):\n",
        "      for j in range(len(list2)):\n",
        "          if list1[i]==list2[j]:\n",
        "              c = list1[i]\n",
        "\n",
        "              list1.remove(c)\n",
        "              list2.remove(c)\n",
        "\n",
        "              list3 = list1 + ['*'] + list2\n",
        "\n",
        "              return [list3, True]\n",
        "\n",
        "\n",
        "  list3 = list1 + [\"*\"] + list2   #if no common characters\n",
        "  return [list3, False]\n",
        "\n",
        "#Driver code\n",
        "\n",
        "if __name__==\"__main__\":\n",
        "\n",
        "\n",
        "\n",
        "\n",
        "   n1 = input(\"Enter the Player_1 name : \")\n",
        "   n1 = n1.lower()\n",
        "   n1.replace(\" \",\"\") # replace any space with empty string\n",
        "   n1_list = list(n1)\n",
        "\n",
        "   n2 = input(\"Enter the Player_2 name : \")\n",
        "   n2 = n2.lower()\n",
        "   n2.replace(\" \",\"\")\n",
        "   n2_list = list(n2)\n",
        "\n",
        "\n",
        "   proceed = True  # taking a flag\n",
        "\n",
        "   while proceed:\n",
        "         #function call to store return value\n",
        "\n",
        "         eliminate_elements_list = remove_comm_char(n1_list, n2_list)\n",
        "\n",
        "         #take out concatenated list from return list\n",
        "         concatenate_list = eliminate_elements_list[0]\n",
        "\n",
        "         #take out flag value from return list\n",
        "         proceed = eliminate_elements_list[1]\n",
        "\n",
        "         #find the index of \"*\"/border_mark\n",
        "\n",
        "         star_index = concatenate_list.index(\"*\")\n",
        "\n",
        "         #List slicing perform\n",
        "         n1_list = concatenate_list[:star_index]\n",
        "\n",
        "         n2_list = concatenate_list[star_index+1:]\n",
        "\n",
        "   count = len(n1_list) + len(n2_list)\n",
        "\n",
        "   result = [\"Friends\", \"Love\", \"Affection\", \"Marriage\", \"Enemy\", \"Siblings\"]\n",
        "\n",
        "   while len(result)>1:\n",
        "\n",
        "        split_index = (count % len(result)-1)\n",
        "\n",
        "        if split_index >= 0:\n",
        "\n",
        "           right = result[split_index + 1:]\n",
        "           left = result[:split_index]\n",
        "\n",
        "           result = right + left\n",
        "        else:\n",
        "           result = result[:len(result)-1]\n",
        "\n",
        "   print(\"Relationship status :\", result[0])\n",
        "\n",
        "\n",
        "\n",
        "\n",
        "\n",
        "\n",
        "\n"
      ]
    }
  ]
}